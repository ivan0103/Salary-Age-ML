{
 "cells": [
  {
   "cell_type": "markdown",
   "id": "1051bede",
   "metadata": {},
   "source": [
    "# Lab 1B: Data Cleaning"
   ]
  },
  {
   "cell_type": "markdown",
   "id": "ab690369",
   "metadata": {},
   "source": [
    "**WHAT** This nonmandatory lab consists of several programming and insight exercises/questions.\n",
    "\n",
    "**WHY** The exercises are meant to familiarize yourself with the basic concepts of data cleaning.\n",
    "\n",
    "**HOW** Follow the exercises in this notebook either on your own or with a fellow student. If you want to skip right to questions and exercises, find the $\\rightarrow$ symbol. \n",
    "\n",
    "$\\newcommand{\\q}[1]{\\rightarrow \\textbf{Question #1}}$\n",
    "$\\newcommand{\\ex}[1]{\\rightarrow \\textbf{Exercise #1}}$"
   ]
  },
  {
   "cell_type": "markdown",
   "id": "8a8f5cbf",
   "metadata": {},
   "source": [
    "In this assignment, we will take a look at the LendingClub data set. This data corresponds to applications for loans issued in 2016. In order to use this data later for classification of loan applicants, we need to first explore and clean this data. \n",
    "Work your way through these exercises at your own pace and be sure to ask questions to the TA's when you don't understand something."
   ]
  },
  {
   "cell_type": "code",
   "execution_count": 2,
   "id": "65a4c6c4",
   "metadata": {},
   "outputs": [],
   "source": [
    "# imports\n",
    "import pandas as pd\n",
    "import numpy as np\n",
    "import seaborn as sns\n",
    "import matplotlib.pyplot as plt"
   ]
  },
  {
   "cell_type": "markdown",
   "id": "53427678",
   "metadata": {},
   "source": [
    "## 1. Reading the Data"
   ]
  },
  {
   "cell_type": "markdown",
   "id": "0954fe1a",
   "metadata": {},
   "source": [
    "We first start by reading the data from the LendingClub file provided in the assignemnt folder. "
   ]
  },
  {
   "cell_type": "code",
   "execution_count": 3,
   "id": "fcc40d86",
   "metadata": {},
   "outputs": [
    {
     "data": {
      "text/html": [
       "<div>\n",
       "<style scoped>\n",
       "    .dataframe tbody tr th:only-of-type {\n",
       "        vertical-align: middle;\n",
       "    }\n",
       "\n",
       "    .dataframe tbody tr th {\n",
       "        vertical-align: top;\n",
       "    }\n",
       "\n",
       "    .dataframe thead th {\n",
       "        text-align: right;\n",
       "    }\n",
       "</style>\n",
       "<table border=\"1\" class=\"dataframe\">\n",
       "  <thead>\n",
       "    <tr style=\"text-align: right;\">\n",
       "      <th></th>\n",
       "      <th>loan_amnt</th>\n",
       "      <th>annual_inc</th>\n",
       "      <th>settlement_amount</th>\n",
       "      <th>term</th>\n",
       "      <th>int_rate</th>\n",
       "      <th>installment</th>\n",
       "      <th>grade</th>\n",
       "      <th>sub_grade</th>\n",
       "      <th>home_ownership</th>\n",
       "      <th>loan_status</th>\n",
       "      <th>fico_range_low</th>\n",
       "      <th>fico_range_high</th>\n",
       "      <th>title</th>\n",
       "      <th>zip_code</th>\n",
       "      <th>addr_state</th>\n",
       "      <th>earliest_cr_line</th>\n",
       "      <th>dti</th>\n",
       "      <th>total_acc</th>\n",
       "      <th>total_bc_limit</th>\n",
       "      <th>bc_util</th>\n",
       "    </tr>\n",
       "  </thead>\n",
       "  <tbody>\n",
       "    <tr>\n",
       "      <th>0</th>\n",
       "      <td>7200.0</td>\n",
       "      <td>51104.0</td>\n",
       "      <td>NaN</td>\n",
       "      <td>36 months</td>\n",
       "      <td>11.49</td>\n",
       "      <td>237.40</td>\n",
       "      <td>B</td>\n",
       "      <td>B5</td>\n",
       "      <td>RENT</td>\n",
       "      <td>Fully Paid</td>\n",
       "      <td>695.0</td>\n",
       "      <td>699.0</td>\n",
       "      <td>Debt consolidation</td>\n",
       "      <td>100xx</td>\n",
       "      <td>NY</td>\n",
       "      <td>Dec-2004</td>\n",
       "      <td>29.59</td>\n",
       "      <td>32.0</td>\n",
       "      <td>10500.0</td>\n",
       "      <td>78.6</td>\n",
       "    </tr>\n",
       "    <tr>\n",
       "      <th>1</th>\n",
       "      <td>16800.0</td>\n",
       "      <td>42000.0</td>\n",
       "      <td>NaN</td>\n",
       "      <td>36 months</td>\n",
       "      <td>17.27</td>\n",
       "      <td>601.23</td>\n",
       "      <td>D</td>\n",
       "      <td>D2</td>\n",
       "      <td>RENT</td>\n",
       "      <td>Fully Paid</td>\n",
       "      <td>675.0</td>\n",
       "      <td>679.0</td>\n",
       "      <td>Debt consolidation</td>\n",
       "      <td>773xx</td>\n",
       "      <td>TX</td>\n",
       "      <td>Jun-2011</td>\n",
       "      <td>25.91</td>\n",
       "      <td>18.0</td>\n",
       "      <td>6800.0</td>\n",
       "      <td>68.6</td>\n",
       "    </tr>\n",
       "    <tr>\n",
       "      <th>2</th>\n",
       "      <td>8000.0</td>\n",
       "      <td>42000.0</td>\n",
       "      <td>NaN</td>\n",
       "      <td>36 months</td>\n",
       "      <td>6.49</td>\n",
       "      <td>245.16</td>\n",
       "      <td>A</td>\n",
       "      <td>A2</td>\n",
       "      <td>MORTGAGE</td>\n",
       "      <td>Fully Paid</td>\n",
       "      <td>720.0</td>\n",
       "      <td>724.0</td>\n",
       "      <td>Credit card refinancing</td>\n",
       "      <td>229xx</td>\n",
       "      <td>VA</td>\n",
       "      <td>Aug-2008</td>\n",
       "      <td>16.34</td>\n",
       "      <td>9.0</td>\n",
       "      <td>11100.0</td>\n",
       "      <td>50.2</td>\n",
       "    </tr>\n",
       "    <tr>\n",
       "      <th>3</th>\n",
       "      <td>14000.0</td>\n",
       "      <td>56000.0</td>\n",
       "      <td>5896.09</td>\n",
       "      <td>60 months</td>\n",
       "      <td>13.67</td>\n",
       "      <td>323.37</td>\n",
       "      <td>C</td>\n",
       "      <td>C3</td>\n",
       "      <td>MORTGAGE</td>\n",
       "      <td>Charged Off</td>\n",
       "      <td>660.0</td>\n",
       "      <td>664.0</td>\n",
       "      <td>Debt consolidation</td>\n",
       "      <td>189xx</td>\n",
       "      <td>PA</td>\n",
       "      <td>Mar-1997</td>\n",
       "      <td>19.41</td>\n",
       "      <td>34.0</td>\n",
       "      <td>19400.0</td>\n",
       "      <td>47.4</td>\n",
       "    </tr>\n",
       "    <tr>\n",
       "      <th>4</th>\n",
       "      <td>11975.0</td>\n",
       "      <td>60000.0</td>\n",
       "      <td>NaN</td>\n",
       "      <td>36 months</td>\n",
       "      <td>7.39</td>\n",
       "      <td>371.90</td>\n",
       "      <td>A</td>\n",
       "      <td>A4</td>\n",
       "      <td>RENT</td>\n",
       "      <td>Fully Paid</td>\n",
       "      <td>690.0</td>\n",
       "      <td>694.0</td>\n",
       "      <td>Debt consolidation</td>\n",
       "      <td>606xx</td>\n",
       "      <td>IL</td>\n",
       "      <td>Jun-1999</td>\n",
       "      <td>11.66</td>\n",
       "      <td>26.0</td>\n",
       "      <td>56800.0</td>\n",
       "      <td>43.7</td>\n",
       "    </tr>\n",
       "  </tbody>\n",
       "</table>\n",
       "</div>"
      ],
      "text/plain": [
       "   loan_amnt  annual_inc  settlement_amount        term  int_rate  \\\n",
       "0     7200.0     51104.0                NaN   36 months     11.49   \n",
       "1    16800.0     42000.0                NaN   36 months     17.27   \n",
       "2     8000.0     42000.0                NaN   36 months      6.49   \n",
       "3    14000.0     56000.0            5896.09   60 months     13.67   \n",
       "4    11975.0     60000.0                NaN   36 months      7.39   \n",
       "\n",
       "   installment grade sub_grade home_ownership  loan_status  fico_range_low  \\\n",
       "0       237.40     B        B5           RENT   Fully Paid           695.0   \n",
       "1       601.23     D        D2           RENT   Fully Paid           675.0   \n",
       "2       245.16     A        A2       MORTGAGE   Fully Paid           720.0   \n",
       "3       323.37     C        C3       MORTGAGE  Charged Off           660.0   \n",
       "4       371.90     A        A4           RENT   Fully Paid           690.0   \n",
       "\n",
       "   fico_range_high                    title zip_code addr_state  \\\n",
       "0            699.0       Debt consolidation    100xx         NY   \n",
       "1            679.0       Debt consolidation    773xx         TX   \n",
       "2            724.0  Credit card refinancing    229xx         VA   \n",
       "3            664.0       Debt consolidation    189xx         PA   \n",
       "4            694.0       Debt consolidation    606xx         IL   \n",
       "\n",
       "  earliest_cr_line    dti  total_acc  total_bc_limit  bc_util  \n",
       "0         Dec-2004  29.59       32.0         10500.0     78.6  \n",
       "1         Jun-2011  25.91       18.0          6800.0     68.6  \n",
       "2         Aug-2008  16.34        9.0         11100.0     50.2  \n",
       "3         Mar-1997  19.41       34.0         19400.0     47.4  \n",
       "4         Jun-1999  11.66       26.0         56800.0     43.7  "
      ]
     },
     "execution_count": 3,
     "metadata": {},
     "output_type": "execute_result"
    }
   ],
   "source": [
    "#reading the raw data\n",
    "df = pd.read_csv('./LendingClub.csv')\n",
    "df.head()"
   ]
  },
  {
   "cell_type": "markdown",
   "id": "ef7d2cf2",
   "metadata": {},
   "source": [
    "We then load the data dictionary. This dictionary provides a brief description of the features in the dataset"
   ]
  },
  {
   "cell_type": "markdown",
   "id": "70e106bd",
   "metadata": {},
   "source": [
    "$\\ex{1.1}$ Load the data dictionary from the csv file provided"
   ]
  },
  {
   "cell_type": "code",
   "execution_count": 4,
   "id": "0a887cab",
   "metadata": {},
   "outputs": [
    {
     "data": {
      "text/html": [
       "<div>\n",
       "<style scoped>\n",
       "    .dataframe tbody tr th:only-of-type {\n",
       "        vertical-align: middle;\n",
       "    }\n",
       "\n",
       "    .dataframe tbody tr th {\n",
       "        vertical-align: top;\n",
       "    }\n",
       "\n",
       "    .dataframe thead th {\n",
       "        text-align: right;\n",
       "    }\n",
       "</style>\n",
       "<table border=\"1\" class=\"dataframe\">\n",
       "  <thead>\n",
       "    <tr style=\"text-align: right;\">\n",
       "      <th></th>\n",
       "      <th>name</th>\n",
       "      <th>description</th>\n",
       "    </tr>\n",
       "  </thead>\n",
       "  <tbody>\n",
       "    <tr>\n",
       "      <th>0</th>\n",
       "      <td>addr_state</td>\n",
       "      <td>The state provided by the borrower in the loan...</td>\n",
       "    </tr>\n",
       "    <tr>\n",
       "      <th>1</th>\n",
       "      <td>annual_inc</td>\n",
       "      <td>The self-reported annual income provided by th...</td>\n",
       "    </tr>\n",
       "    <tr>\n",
       "      <th>2</th>\n",
       "      <td>bc_util</td>\n",
       "      <td>Ratio of total current balance to high credit/...</td>\n",
       "    </tr>\n",
       "    <tr>\n",
       "      <th>3</th>\n",
       "      <td>dti</td>\n",
       "      <td>A ratio calculated using the borrower’s total ...</td>\n",
       "    </tr>\n",
       "    <tr>\n",
       "      <th>4</th>\n",
       "      <td>earliest_cr_line</td>\n",
       "      <td>The month the borrower's earliest reported cre...</td>\n",
       "    </tr>\n",
       "    <tr>\n",
       "      <th>5</th>\n",
       "      <td>fico_range_high</td>\n",
       "      <td>The upper boundary range the borrower’s FICO a...</td>\n",
       "    </tr>\n",
       "    <tr>\n",
       "      <th>6</th>\n",
       "      <td>fico_range_low</td>\n",
       "      <td>The lower boundary range the borrower’s FICO a...</td>\n",
       "    </tr>\n",
       "    <tr>\n",
       "      <th>7</th>\n",
       "      <td>grade</td>\n",
       "      <td>LC assigned loan grade</td>\n",
       "    </tr>\n",
       "    <tr>\n",
       "      <th>8</th>\n",
       "      <td>home_ownership</td>\n",
       "      <td>The home ownership status provided by the borr...</td>\n",
       "    </tr>\n",
       "    <tr>\n",
       "      <th>9</th>\n",
       "      <td>installment</td>\n",
       "      <td>The monthly payment owed by the borrower if th...</td>\n",
       "    </tr>\n",
       "    <tr>\n",
       "      <th>10</th>\n",
       "      <td>int_rate</td>\n",
       "      <td>Interest Rate on the loan</td>\n",
       "    </tr>\n",
       "    <tr>\n",
       "      <th>11</th>\n",
       "      <td>loan_amnt</td>\n",
       "      <td>The listed amount of the loan applied for by t...</td>\n",
       "    </tr>\n",
       "    <tr>\n",
       "      <th>12</th>\n",
       "      <td>loan_status</td>\n",
       "      <td>Current status of the loan</td>\n",
       "    </tr>\n",
       "    <tr>\n",
       "      <th>13</th>\n",
       "      <td>sub_grade</td>\n",
       "      <td>LC assigned loan subgrade</td>\n",
       "    </tr>\n",
       "    <tr>\n",
       "      <th>14</th>\n",
       "      <td>term</td>\n",
       "      <td>The number of payments on the loan. Values are...</td>\n",
       "    </tr>\n",
       "    <tr>\n",
       "      <th>15</th>\n",
       "      <td>title</td>\n",
       "      <td>The loan title provided by the borrower</td>\n",
       "    </tr>\n",
       "    <tr>\n",
       "      <th>16</th>\n",
       "      <td>total_acc</td>\n",
       "      <td>The total number of credit lines currently in ...</td>\n",
       "    </tr>\n",
       "    <tr>\n",
       "      <th>17</th>\n",
       "      <td>total_bc_limit</td>\n",
       "      <td>Total bankcard high credit/credit limit</td>\n",
       "    </tr>\n",
       "    <tr>\n",
       "      <th>18</th>\n",
       "      <td>zip_code</td>\n",
       "      <td>The first 3 numbers of the zip code provided b...</td>\n",
       "    </tr>\n",
       "  </tbody>\n",
       "</table>\n",
       "</div>"
      ],
      "text/plain": [
       "                name                                        description\n",
       "0         addr_state  The state provided by the borrower in the loan...\n",
       "1         annual_inc  The self-reported annual income provided by th...\n",
       "2            bc_util  Ratio of total current balance to high credit/...\n",
       "3                dti  A ratio calculated using the borrower’s total ...\n",
       "4   earliest_cr_line  The month the borrower's earliest reported cre...\n",
       "5    fico_range_high  The upper boundary range the borrower’s FICO a...\n",
       "6     fico_range_low  The lower boundary range the borrower’s FICO a...\n",
       "7              grade                             LC assigned loan grade\n",
       "8     home_ownership  The home ownership status provided by the borr...\n",
       "9        installment  The monthly payment owed by the borrower if th...\n",
       "10          int_rate                          Interest Rate on the loan\n",
       "11         loan_amnt  The listed amount of the loan applied for by t...\n",
       "12       loan_status                         Current status of the loan\n",
       "13         sub_grade                          LC assigned loan subgrade\n",
       "14              term  The number of payments on the loan. Values are...\n",
       "15             title            The loan title provided by the borrower\n",
       "16         total_acc  The total number of credit lines currently in ...\n",
       "17    total_bc_limit            Total bankcard high credit/credit limit\n",
       "18          zip_code  The first 3 numbers of the zip code provided b..."
      ]
     },
     "execution_count": 4,
     "metadata": {},
     "output_type": "execute_result"
    }
   ],
   "source": [
    "data_dictionary = None\n",
    "# START ANSWER\n",
    "data_dictionary = pd.read_csv('./DataDictionary.csv')\n",
    "# END ANSWER\n",
    "\n",
    "data_dictionary"
   ]
  },
  {
   "cell_type": "markdown",
   "id": "3b45c0a6",
   "metadata": {},
   "source": [
    "## 2. Explore Data"
   ]
  },
  {
   "cell_type": "markdown",
   "id": "a784151b",
   "metadata": {},
   "source": [
    "$\\ex{2.1}$ How many samples and features does the dataset contain?\n",
    "\n",
    "*Hint: Take a look at the pandas.DataFrame in the Pandas API reference scroll down to look at the list of attributes and methods, to familiarize yourself*"
   ]
  },
  {
   "cell_type": "code",
   "execution_count": 5,
   "id": "aae242b5",
   "metadata": {},
   "outputs": [
    {
     "data": {
      "text/plain": [
       "(217472, 20)"
      ]
     },
     "execution_count": 5,
     "metadata": {},
     "output_type": "execute_result"
    }
   ],
   "source": [
    "# START ANSWER\n",
    "df.shape\n",
    "# END ANSWER"
   ]
  },
  {
   "cell_type": "markdown",
   "id": "0e0e84e5",
   "metadata": {},
   "source": [
    "$\\ex{2.2}$ Print the names of the features and their corresponding data types"
   ]
  },
  {
   "cell_type": "code",
   "execution_count": 6,
   "id": "7fcdde14",
   "metadata": {},
   "outputs": [
    {
     "data": {
      "text/plain": [
       "loan_amnt            float64\n",
       "annual_inc           float64\n",
       "settlement_amount    float64\n",
       "term                  object\n",
       "int_rate             float64\n",
       "installment          float64\n",
       "grade                 object\n",
       "sub_grade             object\n",
       "home_ownership        object\n",
       "loan_status           object\n",
       "fico_range_low       float64\n",
       "fico_range_high      float64\n",
       "title                 object\n",
       "zip_code              object\n",
       "addr_state            object\n",
       "earliest_cr_line      object\n",
       "dti                  float64\n",
       "total_acc            float64\n",
       "total_bc_limit       float64\n",
       "bc_util              float64\n",
       "dtype: object"
      ]
     },
     "execution_count": 6,
     "metadata": {},
     "output_type": "execute_result"
    }
   ],
   "source": [
    "# START ANSWER\n",
    "df.dtypes\n",
    "# END ANSWER"
   ]
  },
  {
   "cell_type": "markdown",
   "id": "7366c877",
   "metadata": {},
   "source": [
    "## 3. Removing unwanted observations"
   ]
  },
  {
   "cell_type": "markdown",
   "id": "9b4aa0ef",
   "metadata": {},
   "source": [
    "Lets take a look at **loan_status** feature."
   ]
  },
  {
   "cell_type": "markdown",
   "id": "bc0cfad7",
   "metadata": {},
   "source": [
    "$\\ex{3.1}$ Find the possible values that the feature takes and their respective frequencies\n",
    "\n",
    "*Hint: Pandas objects have a method that can do this for you*"
   ]
  },
  {
   "cell_type": "code",
   "execution_count": 7,
   "id": "aae40b7f",
   "metadata": {},
   "outputs": [
    {
     "data": {
      "text/plain": [
       "Fully Paid            112418\n",
       "Current                67084\n",
       "Charged Off            34364\n",
       "Late (31-120 days)      2252\n",
       "In Grace Period          885\n",
       "Late (16-30 days)        461\n",
       "Default                    8\n",
       "Name: loan_status, dtype: int64"
      ]
     },
     "execution_count": 7,
     "metadata": {},
     "output_type": "execute_result"
    }
   ],
   "source": [
    "# START ANSWER\n",
    "df['loan_status'].value_counts()\n",
    "# END ANSWER"
   ]
  },
  {
   "cell_type": "markdown",
   "id": "efa9f9dc",
   "metadata": {},
   "source": [
    "This information can be visualized in the form of a histogram. Below we use the countplot function from the seaborn library to create this figure."
   ]
  },
  {
   "cell_type": "code",
   "execution_count": 8,
   "id": "525bea12",
   "metadata": {},
   "outputs": [
    {
     "data": {
      "text/plain": [
       "Text(0, 0.5, 'Loan Amount')"
      ]
     },
     "execution_count": 8,
     "metadata": {},
     "output_type": "execute_result"
    },
    {
     "data": {
      "image/png": "[encoded data removed]",
      "text/plain": [
       "<Figure size 1200x800 with 1 Axes>"
      ]
     },
     "metadata": {},
     "output_type": "display_data"
    }
   ],
   "source": [
    "plt.figure(figsize = (12,8))\n",
    "g = sns.countplot(x=\"loan_status\",data=df,\n",
    "                  palette='hls')\n",
    "g.set_xticklabels(g.get_xticklabels(),rotation=45)\n",
    "g.set_title(\"Loan Status\", fontsize=20)\n",
    "g.set_xlabel(\"Loan Status\", fontsize=15)\n",
    "g.set_ylabel(\"Loan Amount\", fontsize=20)"
   ]
  },
  {
   "cell_type": "markdown",
   "id": "4bf64ea6",
   "metadata": {},
   "source": [
    "This data is going to be used to predict if a loan is going to be repaid or not based on the loan application. Therefore, we want to make sure that the samples that we use are relevant to making this prediction."
   ]
  },
  {
   "cell_type": "markdown",
   "id": "e51b7923",
   "metadata": {},
   "source": [
    "The samples with the  **loan_status = \"Current\"** correspond to loans whiach are still active.\n",
    "These samples can be removed as they do not help in predicting if a loan has been repaid or not.\n",
    "\n",
    "$\\ex{3.2}$ Remove the samples that have **loan_status = Current** from the dataframe"
   ]
  },
  {
   "cell_type": "code",
   "execution_count": 11,
   "id": "67295974",
   "metadata": {},
   "outputs": [],
   "source": [
    "# START ANSWER\n",
    "df = df[df['loan_status'] != 'Current']\n",
    "# END ANSWER"
   ]
  },
  {
   "cell_type": "markdown",
   "id": "29c73574",
   "metadata": {},
   "source": [
    "We want to do an analysis for the Pacific Coast states California, Oregon, and Washington (not DC!)\n",
    "\n",
    "$\\ex{3.3}$ Select the appropriate subset of samples"
   ]
  },
  {
   "cell_type": "code",
   "execution_count": 12,
   "id": "e54e4f9d",
   "metadata": {},
   "outputs": [],
   "source": [
    "# START ANSWER\n",
    "df = df[(df['addr_state'] == 'CA') | (df['addr_state'] == 'OR' ) | (df['addr_state'] =='WA')]\n",
    "# END ANSWER"
   ]
  },
  {
   "cell_type": "markdown",
   "id": "31325bfe",
   "metadata": {},
   "source": [
    "## 4. Handling Duplicate Observations"
   ]
  },
  {
   "cell_type": "markdown",
   "id": "eec79db0",
   "metadata": {},
   "source": [
    "Next we want to make sure that there are no duplicate samples in the dataset.\n",
    "\n",
    "$\\ex{4.1}$ Find and print the duplicate observations in the dataset\n",
    "\n",
    "*Hint: Take a look at the pandas library*"
   ]
  },
  {
   "cell_type": "code",
   "execution_count": 13,
   "id": "0901fb05",
   "metadata": {},
   "outputs": [
    {
     "data": {
      "text/html": [
       "<div>\n",
       "<style scoped>\n",
       "    .dataframe tbody tr th:only-of-type {\n",
       "        vertical-align: middle;\n",
       "    }\n",
       "\n",
       "    .dataframe tbody tr th {\n",
       "        vertical-align: top;\n",
       "    }\n",
       "\n",
       "    .dataframe thead th {\n",
       "        text-align: right;\n",
       "    }\n",
       "</style>\n",
       "<table border=\"1\" class=\"dataframe\">\n",
       "  <thead>\n",
       "    <tr style=\"text-align: right;\">\n",
       "      <th></th>\n",
       "      <th>loan_amnt</th>\n",
       "      <th>annual_inc</th>\n",
       "      <th>settlement_amount</th>\n",
       "      <th>term</th>\n",
       "      <th>int_rate</th>\n",
       "      <th>installment</th>\n",
       "      <th>grade</th>\n",
       "      <th>sub_grade</th>\n",
       "      <th>home_ownership</th>\n",
       "      <th>loan_status</th>\n",
       "      <th>fico_range_low</th>\n",
       "      <th>fico_range_high</th>\n",
       "      <th>title</th>\n",
       "      <th>zip_code</th>\n",
       "      <th>addr_state</th>\n",
       "      <th>earliest_cr_line</th>\n",
       "      <th>dti</th>\n",
       "      <th>total_acc</th>\n",
       "      <th>total_bc_limit</th>\n",
       "      <th>bc_util</th>\n",
       "    </tr>\n",
       "  </thead>\n",
       "  <tbody>\n",
       "    <tr>\n",
       "      <th>210621</th>\n",
       "      <td>5000.0</td>\n",
       "      <td>116000.0</td>\n",
       "      <td>NaN</td>\n",
       "      <td>36 months</td>\n",
       "      <td>8.24</td>\n",
       "      <td>157.24</td>\n",
       "      <td>B</td>\n",
       "      <td>B1</td>\n",
       "      <td>MORTGAGE</td>\n",
       "      <td>Fully Paid</td>\n",
       "      <td>685.0</td>\n",
       "      <td>689.0</td>\n",
       "      <td>Credit card refinancing</td>\n",
       "      <td>928xx</td>\n",
       "      <td>CA</td>\n",
       "      <td>Dec-1997</td>\n",
       "      <td>13.17</td>\n",
       "      <td>24.0</td>\n",
       "      <td>20900.0</td>\n",
       "      <td>43.8</td>\n",
       "    </tr>\n",
       "    <tr>\n",
       "      <th>217471</th>\n",
       "      <td>10000.0</td>\n",
       "      <td>40000.0</td>\n",
       "      <td>NaN</td>\n",
       "      <td>36 months</td>\n",
       "      <td>12.99</td>\n",
       "      <td>336.90</td>\n",
       "      <td>C</td>\n",
       "      <td>C2</td>\n",
       "      <td>RENT</td>\n",
       "      <td>Charged Off</td>\n",
       "      <td>665.0</td>\n",
       "      <td>669.0</td>\n",
       "      <td>Medical expenses</td>\n",
       "      <td>950xx</td>\n",
       "      <td>CA</td>\n",
       "      <td>Sep-1996</td>\n",
       "      <td>21.06</td>\n",
       "      <td>28.0</td>\n",
       "      <td>4300.0</td>\n",
       "      <td>73.2</td>\n",
       "    </tr>\n",
       "  </tbody>\n",
       "</table>\n",
       "</div>"
      ],
      "text/plain": [
       "        loan_amnt  annual_inc  settlement_amount        term  int_rate  \\\n",
       "210621     5000.0    116000.0                NaN   36 months      8.24   \n",
       "217471    10000.0     40000.0                NaN   36 months     12.99   \n",
       "\n",
       "        installment grade sub_grade home_ownership  loan_status  \\\n",
       "210621       157.24     B        B1       MORTGAGE   Fully Paid   \n",
       "217471       336.90     C        C2           RENT  Charged Off   \n",
       "\n",
       "        fico_range_low  fico_range_high                    title zip_code  \\\n",
       "210621           685.0            689.0  Credit card refinancing    928xx   \n",
       "217471           665.0            669.0         Medical expenses    950xx   \n",
       "\n",
       "       addr_state earliest_cr_line    dti  total_acc  total_bc_limit  bc_util  \n",
       "210621         CA         Dec-1997  13.17       24.0         20900.0     43.8  \n",
       "217471         CA         Sep-1996  21.06       28.0          4300.0     73.2  "
      ]
     },
     "execution_count": 13,
     "metadata": {},
     "output_type": "execute_result"
    }
   ],
   "source": [
    "# START ANSWER\n",
    "df[df.duplicated()]\n",
    "# END ANSWER"
   ]
  },
  {
   "cell_type": "markdown",
   "id": "974f97f8",
   "metadata": {},
   "source": [
    "$\\ex{4.2}$ Now remove the duplicates from the dataframe"
   ]
  },
  {
   "cell_type": "code",
   "execution_count": 14,
   "id": "8dc0a978",
   "metadata": {},
   "outputs": [],
   "source": [
    "# START ANSWER\n",
    "df = df.drop_duplicates()\n",
    "# END ANSWER"
   ]
  },
  {
   "cell_type": "markdown",
   "id": "b600d5ae",
   "metadata": {},
   "source": [
    "## 5. Detecting and Dealing with Highly Correlated Features"
   ]
  },
  {
   "cell_type": "markdown",
   "id": "8b6f0966",
   "metadata": {},
   "source": [
    "Features that are highly correlated to each other do not provide much additional information to the data but they do add complexity. \n",
    "\n",
    "$\\ex{5.1}$ Compute the correlation matrix for the numeric features and make a heatmap to visualize this.\n",
    "\n",
    "*Hint: Take a look at the heatmap function in the seaborn library*"
   ]
  },
  {
   "cell_type": "code",
   "execution_count": 17,
   "id": "10b61b1d",
   "metadata": {},
   "outputs": [
    {
     "data": {
      "image/png": "[encoded data removed]",
      "text/plain": [
       "<Figure size 800x600 with 2 Axes>"
      ]
     },
     "metadata": {},
     "output_type": "display_data"
    }
   ],
   "source": [
    "correlation_matrix = None\n",
    "\n",
    "# START ANSWER\n",
    "correlation_matrix = df.corr()\n",
    "# END ANSWER\n",
    "\n",
    "plt.figure(figsize=(8, 6))\n",
    "\n",
    "# Plot the correlation heatmap\n",
    "# START ANSWER\n",
    "sns.heatmap(correlation_matrix, annot=True, cmap='coolwarm', fmt=\".2f\")\n",
    "# END ANSWER\n",
    "plt.title('Correlation Heatmap')\n",
    "plt.show()\n"
   ]
  },
  {
   "cell_type": "markdown",
   "id": "0fe3f555",
   "metadata": {},
   "source": [
    "$\\ex{5.2}$ Can you identify the features that have a high correlation?"
   ]
  },
  {
   "cell_type": "markdown",
   "id": "50177f01",
   "metadata": {},
   "source": [
    "To ensure that there is no redunt information we want to keep only one of the features in each pair of highly correlated features. \n",
    "\n",
    "$\\ex{5.3}$ Add code below to remove one of the features in each pair."
   ]
  },
  {
   "cell_type": "code",
   "execution_count": 18,
   "id": "39b205aa",
   "metadata": {},
   "outputs": [],
   "source": [
    "# START ANSWER\n",
    "drop_list_correlated = [\"installment\",\"fico_range_high\"]\n",
    "df = df.drop(drop_list_correlated, axis=1)\n",
    "# END ANSWER"
   ]
  },
  {
   "cell_type": "markdown",
   "id": "13e363da",
   "metadata": {},
   "source": [
    "Above we dealt with the numeric features which had a high correlation. Let's take a look at the non-numeric features."
   ]
  },
  {
   "cell_type": "code",
   "execution_count": 19,
   "id": "4e44593d",
   "metadata": {},
   "outputs": [
    {
     "data": {
      "text/html": [
       "<div>\n",
       "<style scoped>\n",
       "    .dataframe tbody tr th:only-of-type {\n",
       "        vertical-align: middle;\n",
       "    }\n",
       "\n",
       "    .dataframe tbody tr th {\n",
       "        vertical-align: top;\n",
       "    }\n",
       "\n",
       "    .dataframe thead th {\n",
       "        text-align: right;\n",
       "    }\n",
       "</style>\n",
       "<table border=\"1\" class=\"dataframe\">\n",
       "  <thead>\n",
       "    <tr style=\"text-align: right;\">\n",
       "      <th></th>\n",
       "      <th>term</th>\n",
       "      <th>grade</th>\n",
       "      <th>sub_grade</th>\n",
       "      <th>home_ownership</th>\n",
       "      <th>loan_status</th>\n",
       "      <th>title</th>\n",
       "      <th>zip_code</th>\n",
       "      <th>addr_state</th>\n",
       "      <th>earliest_cr_line</th>\n",
       "    </tr>\n",
       "  </thead>\n",
       "  <tbody>\n",
       "    <tr>\n",
       "      <th>5</th>\n",
       "      <td>36 months</td>\n",
       "      <td>B</td>\n",
       "      <td>B3</td>\n",
       "      <td>RENT</td>\n",
       "      <td>Fully Paid</td>\n",
       "      <td>Credit card refinancing</td>\n",
       "      <td>982xx</td>\n",
       "      <td>WA</td>\n",
       "      <td>Jul-2007</td>\n",
       "    </tr>\n",
       "    <tr>\n",
       "      <th>10</th>\n",
       "      <td>36 months</td>\n",
       "      <td>E</td>\n",
       "      <td>E1</td>\n",
       "      <td>RENT</td>\n",
       "      <td>Fully Paid</td>\n",
       "      <td>Debt consolidation</td>\n",
       "      <td>919xx</td>\n",
       "      <td>CA</td>\n",
       "      <td>Apr-1995</td>\n",
       "    </tr>\n",
       "    <tr>\n",
       "      <th>15</th>\n",
       "      <td>36 months</td>\n",
       "      <td>B</td>\n",
       "      <td>B2</td>\n",
       "      <td>MORTGAGE</td>\n",
       "      <td>Fully Paid</td>\n",
       "      <td>Debt consolidation</td>\n",
       "      <td>923xx</td>\n",
       "      <td>CA</td>\n",
       "      <td>May-1985</td>\n",
       "    </tr>\n",
       "    <tr>\n",
       "      <th>35</th>\n",
       "      <td>60 months</td>\n",
       "      <td>D</td>\n",
       "      <td>D2</td>\n",
       "      <td>MORTGAGE</td>\n",
       "      <td>Fully Paid</td>\n",
       "      <td>Home improvement</td>\n",
       "      <td>926xx</td>\n",
       "      <td>CA</td>\n",
       "      <td>Aug-1999</td>\n",
       "    </tr>\n",
       "    <tr>\n",
       "      <th>44</th>\n",
       "      <td>36 months</td>\n",
       "      <td>C</td>\n",
       "      <td>C1</td>\n",
       "      <td>RENT</td>\n",
       "      <td>Charged Off</td>\n",
       "      <td>Debt consolidation</td>\n",
       "      <td>917xx</td>\n",
       "      <td>CA</td>\n",
       "      <td>Jun-2001</td>\n",
       "    </tr>\n",
       "    <tr>\n",
       "      <th>...</th>\n",
       "      <td>...</td>\n",
       "      <td>...</td>\n",
       "      <td>...</td>\n",
       "      <td>...</td>\n",
       "      <td>...</td>\n",
       "      <td>...</td>\n",
       "      <td>...</td>\n",
       "      <td>...</td>\n",
       "      <td>...</td>\n",
       "    </tr>\n",
       "    <tr>\n",
       "      <th>217447</th>\n",
       "      <td>36 months</td>\n",
       "      <td>C</td>\n",
       "      <td>C3</td>\n",
       "      <td>RENT</td>\n",
       "      <td>Charged Off</td>\n",
       "      <td>Debt consolidation</td>\n",
       "      <td>941xx</td>\n",
       "      <td>CA</td>\n",
       "      <td>Jan-1996</td>\n",
       "    </tr>\n",
       "    <tr>\n",
       "      <th>217451</th>\n",
       "      <td>36 months</td>\n",
       "      <td>B</td>\n",
       "      <td>B3</td>\n",
       "      <td>RENT</td>\n",
       "      <td>Fully Paid</td>\n",
       "      <td>Debt consolidation</td>\n",
       "      <td>945xx</td>\n",
       "      <td>CA</td>\n",
       "      <td>Jul-2008</td>\n",
       "    </tr>\n",
       "    <tr>\n",
       "      <th>217452</th>\n",
       "      <td>60 months</td>\n",
       "      <td>D</td>\n",
       "      <td>D5</td>\n",
       "      <td>MORTGAGE</td>\n",
       "      <td>Fully Paid</td>\n",
       "      <td>Home improvement</td>\n",
       "      <td>953xx</td>\n",
       "      <td>CA</td>\n",
       "      <td>Apr-1979</td>\n",
       "    </tr>\n",
       "    <tr>\n",
       "      <th>217455</th>\n",
       "      <td>36 months</td>\n",
       "      <td>B</td>\n",
       "      <td>B3</td>\n",
       "      <td>RENT</td>\n",
       "      <td>Fully Paid</td>\n",
       "      <td>Credit card refinancing</td>\n",
       "      <td>951xx</td>\n",
       "      <td>CA</td>\n",
       "      <td>Nov-2003</td>\n",
       "    </tr>\n",
       "    <tr>\n",
       "      <th>217456</th>\n",
       "      <td>36 months</td>\n",
       "      <td>B</td>\n",
       "      <td>B5</td>\n",
       "      <td>RENT</td>\n",
       "      <td>Fully Paid</td>\n",
       "      <td>Debt consolidation</td>\n",
       "      <td>926xx</td>\n",
       "      <td>CA</td>\n",
       "      <td>Oct-2002</td>\n",
       "    </tr>\n",
       "  </tbody>\n",
       "</table>\n",
       "<p>25606 rows × 9 columns</p>\n",
       "</div>"
      ],
      "text/plain": [
       "              term grade sub_grade home_ownership  loan_status  \\\n",
       "5        36 months     B        B3           RENT   Fully Paid   \n",
       "10       36 months     E        E1           RENT   Fully Paid   \n",
       "15       36 months     B        B2       MORTGAGE   Fully Paid   \n",
       "35       60 months     D        D2       MORTGAGE   Fully Paid   \n",
       "44       36 months     C        C1           RENT  Charged Off   \n",
       "...            ...   ...       ...            ...          ...   \n",
       "217447   36 months     C        C3           RENT  Charged Off   \n",
       "217451   36 months     B        B3           RENT   Fully Paid   \n",
       "217452   60 months     D        D5       MORTGAGE   Fully Paid   \n",
       "217455   36 months     B        B3           RENT   Fully Paid   \n",
       "217456   36 months     B        B5           RENT   Fully Paid   \n",
       "\n",
       "                          title zip_code addr_state earliest_cr_line  \n",
       "5       Credit card refinancing    982xx         WA         Jul-2007  \n",
       "10           Debt consolidation    919xx         CA         Apr-1995  \n",
       "15           Debt consolidation    923xx         CA         May-1985  \n",
       "35             Home improvement    926xx         CA         Aug-1999  \n",
       "44           Debt consolidation    917xx         CA         Jun-2001  \n",
       "...                         ...      ...        ...              ...  \n",
       "217447       Debt consolidation    941xx         CA         Jan-1996  \n",
       "217451       Debt consolidation    945xx         CA         Jul-2008  \n",
       "217452         Home improvement    953xx         CA         Apr-1979  \n",
       "217455  Credit card refinancing    951xx         CA         Nov-2003  \n",
       "217456       Debt consolidation    926xx         CA         Oct-2002  \n",
       "\n",
       "[25606 rows x 9 columns]"
      ]
     },
     "execution_count": 19,
     "metadata": {},
     "output_type": "execute_result"
    }
   ],
   "source": [
    "object_columns = df.columns[df.dtypes == 'object']\n",
    "df[object_columns]"
   ]
  },
  {
   "cell_type": "markdown",
   "id": "5ae17d05",
   "metadata": {},
   "source": [
    "$\\ex{5.4}$ Can you identify the feature that can be removed without removing any information from the dataset (there is a feature providing redundant information)? Remove this feature from the dataframe."
   ]
  },
  {
   "cell_type": "code",
   "execution_count": 20,
   "id": "f53cb0bb",
   "metadata": {},
   "outputs": [],
   "source": [
    "# Remove the redundant non-numeric feature\n",
    "# START ANSWER\n",
    "df = df.drop(['grade'], axis =1)\n",
    "# END ANSWER"
   ]
  },
  {
   "cell_type": "markdown",
   "id": "58335dfd",
   "metadata": {},
   "source": [
    "## 6. Dealing with missing data"
   ]
  },
  {
   "cell_type": "markdown",
   "id": "96697cb7",
   "metadata": {},
   "source": [
    "Another major aspect of data cleaning is handling missing values. There are several ways in which this can be done. We will explore a few different scenarios below.\n",
    "\n",
    "$\\ex{6.1}$ Find the number of null values in each feature"
   ]
  },
  {
   "cell_type": "code",
   "execution_count": 21,
   "id": "4a857a00",
   "metadata": {},
   "outputs": [
    {
     "data": {
      "text/plain": [
       "loan_amnt                0\n",
       "annual_inc               0\n",
       "settlement_amount    24688\n",
       "term                     0\n",
       "int_rate                 0\n",
       "sub_grade                0\n",
       "home_ownership           0\n",
       "loan_status              0\n",
       "fico_range_low           0\n",
       "title                 1442\n",
       "zip_code                 0\n",
       "addr_state               0\n",
       "earliest_cr_line         0\n",
       "dti                      1\n",
       "total_acc                0\n",
       "total_bc_limit           0\n",
       "bc_util                288\n",
       "dtype: int64"
      ]
     },
     "execution_count": 21,
     "metadata": {},
     "output_type": "execute_result"
    }
   ],
   "source": [
    "# START ANSWER\n",
    "null_count = df.isnull().sum()\n",
    "null_count\n",
    "# END ANSWER"
   ]
  },
  {
   "cell_type": "markdown",
   "id": "f3453bc9",
   "metadata": {},
   "source": [
    "Features that have a high percentage of NaN values are not reliable for prediction. These features are usually removed from the dataset.\n",
    "\n",
    "$\\ex{6.2}$ Remove the feature that has more than 25% missing values"
   ]
  },
  {
   "cell_type": "code",
   "execution_count": 22,
   "id": "8f3d6bae",
   "metadata": {},
   "outputs": [],
   "source": [
    "# START ANSWER\n",
    "df = df.drop(['settlement_amount'], axis=1)\n",
    "# END ANSWER"
   ]
  },
  {
   "cell_type": "markdown",
   "id": "703486ef",
   "metadata": {},
   "source": [
    "First we inspect the categorical feature **title**"
   ]
  },
  {
   "cell_type": "code",
   "execution_count": 23,
   "id": "30c11050",
   "metadata": {},
   "outputs": [
    {
     "data": {
      "text/plain": [
       "Debt consolidation         14166\n",
       "Credit card refinancing     4790\n",
       "Other                       1738\n",
       "Home improvement            1476\n",
       "Major purchase               528\n",
       "Business                     320\n",
       "Medical expenses             306\n",
       "Car financing                257\n",
       "Moving and relocation        225\n",
       "Vacation                     214\n",
       "Home buying                  125\n",
       "Green loan                    19\n",
       "Name: title, dtype: int64"
      ]
     },
     "execution_count": 23,
     "metadata": {},
     "output_type": "execute_result"
    }
   ],
   "source": [
    "df['title'].value_counts()"
   ]
  },
  {
   "cell_type": "markdown",
   "id": "a235c2f2",
   "metadata": {},
   "source": [
    "The most appropriate value to replace the NaNs with for title is Other.\n",
    "\n",
    "$\\ex{6.3}$  Raplace the NaN values corresponding to the feature **title** with \"Other\"\n",
    "\n",
    "*Hint: take a look at the fillna() method in pandas*"
   ]
  },
  {
   "cell_type": "code",
   "execution_count": 25,
   "id": "3c521c57",
   "metadata": {},
   "outputs": [],
   "source": [
    "# START ANSWER\n",
    "df['title'].fillna(value=\"Other\", inplace=True)\n",
    "# END ANSWER"
   ]
  },
  {
   "cell_type": "markdown",
   "id": "936155dc",
   "metadata": {},
   "source": [
    "Now lets take a look at the **dti** feature. Since only 1 sample has a NaN value for this feature, we can handle them by removing this sample."
   ]
  },
  {
   "cell_type": "markdown",
   "id": "8a1f9a6a",
   "metadata": {},
   "source": [
    "$\\ex{6.4}$ Remove the samples with NaN values for **dti**"
   ]
  },
  {
   "cell_type": "code",
   "execution_count": 26,
   "id": "dd9a9fa5",
   "metadata": {},
   "outputs": [
    {
     "data": {
      "text/plain": [
       "(25605, 16)"
      ]
     },
     "execution_count": 26,
     "metadata": {},
     "output_type": "execute_result"
    }
   ],
   "source": [
    "# START ANSWER\n",
    "df.dropna(subset=[\"dti\"], inplace=True)\n",
    "# END ANSWER\n",
    "df.shape"
   ]
  },
  {
   "cell_type": "markdown",
   "id": "26744b1d",
   "metadata": {},
   "source": [
    "The final feature with missing values is **bc_util**. This is a numeric feature that has a significant number of NaN values. In order to handle this, we will replace this value with an appropriate metric.\n",
    "\n",
    "$\\ex{6.5}$ Can you think of some apppropriate value that could be used to replace the missing values?"
   ]
  },
  {
   "cell_type": "markdown",
   "id": "8a5b9224",
   "metadata": {},
   "source": [
    "$\\ex{6.6}$ Find the mean, median and standard deviation of the values of this feature"
   ]
  },
  {
   "cell_type": "code",
   "execution_count": 27,
   "id": "8d19f44a",
   "metadata": {},
   "outputs": [
    {
     "name": "stdout",
     "output_type": "stream",
     "text": [
      "Median: 58.7\n",
      "Mean: 57.214583086463904\n",
      "Standard Deviation: 28.480181198896673\n"
     ]
    }
   ],
   "source": [
    "mean_value = None\n",
    "median_value = None\n",
    "standard_deviation = None\n",
    "\n",
    "# START ANSWER\n",
    "mean_value = df['bc_util'].mean()\n",
    "median_value = df['bc_util'].median()\n",
    "standard_deviation = df['bc_util'].std()\n",
    "# END ANSWER\n",
    "\n",
    "print(\"Median:\", median_value)\n",
    "print(\"Mean:\", mean_value)\n",
    "print(\"Standard Deviation:\", standard_deviation)"
   ]
  },
  {
   "cell_type": "markdown",
   "id": "a42757f1",
   "metadata": {},
   "source": [
    "$\\ex{6.7}$ Plot the histogram for this feature.\n",
    "\n",
    "*Hint: You can use the plot.hist() method in pandas*"
   ]
  },
  {
   "cell_type": "code",
   "execution_count": 28,
   "id": "5f201d4f",
   "metadata": {},
   "outputs": [
    {
     "data": {
      "image/png": "[encoded data removed]",
      "text/plain": [
       "<Figure size 640x480 with 1 Axes>"
      ]
     },
     "metadata": {},
     "output_type": "display_data"
    }
   ],
   "source": [
    "# START ANSWER\n",
    "df['bc_util'].plot.hist(bins=200)\n",
    "plt.show()\n",
    "# END ANSWER"
   ]
  },
  {
   "cell_type": "markdown",
   "id": "b208f460",
   "metadata": {},
   "source": [
    "$\\ex{6.8}$ Replace the missing values with a suitable value. What value did you choose?"
   ]
  },
  {
   "cell_type": "code",
   "execution_count": 30,
   "id": "b7806f83",
   "metadata": {},
   "outputs": [],
   "source": [
    "# START ANSWER\n",
    "df['bc_util'].fillna(value=mean_value, inplace=True)\n",
    "# END ANSWER"
   ]
  },
  {
   "cell_type": "markdown",
   "id": "ea1547fc",
   "metadata": {},
   "source": [
    "## 7. Removing features with little predictive value"
   ]
  },
  {
   "cell_type": "markdown",
   "id": "883e896d",
   "metadata": {},
   "source": [
    "Sometimes, based on the problem setting, some features do not provide helpful information in terms of prediction. In these cases the features are removed in order to simplify the dataset.\n",
    "\n",
    "$\\ex{7.1}$ Can you identify 2 least useful features in this case? "
   ]
  }
 ],
 "metadata": {
  "kernelspec": {
   "display_name": "Python 3 (ipykernel)",
   "language": "python",
   "name": "python3"
  },
  "language_info": {
   "codemirror_mode": {
    "name": "ipython",
    "version": 3
   },
   "file_extension": ".py",
   "mimetype": "text/x-python",
   "name": "python",
   "nbconvert_exporter": "python",
   "pygments_lexer": "ipython3",
   "version": "3.9.13"
  }
 },
 "nbformat": 4,
 "nbformat_minor": 5
}
